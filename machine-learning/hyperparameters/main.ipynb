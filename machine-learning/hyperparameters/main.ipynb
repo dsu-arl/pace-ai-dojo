{
 "cells": [
  {
   "cell_type": "code",
   "execution_count": 2,
   "metadata": {},
   "outputs": [],
   "source": [
    "# Code checking\n",
    "from checker import *\n",
    "\n",
    "# Importing necessary libraries\n",
    "from sklearn.datasets import load_iris\n",
    "from sklearn.ensemble import RandomForestClassifier\n",
    "from sklearn.metrics import log_loss\n",
    "from sklearn.model_selection import train_test_split\n",
    "\n",
    "# Initializing the data\n",
    "iris = load_iris()\n",
    "X = iris.data\n",
    "y = iris.target\n",
    "\n",
    "X_train, X_test, y_train, y_test = train_test_split(X, y, test_size=0.2, random_state=42)"
   ]
  },
  {
   "cell_type": "code",
   "execution_count": 13,
   "metadata": {},
   "outputs": [
    {
     "name": "stdout",
     "output_type": "stream",
     "text": [
      "Target Loss: 0.0252\n",
      " Model Loss: 0.0252\n",
      "\u001b[32mCorrect\u001b[0m\n",
      "Congratulations! You have passed this level! Here is your flag:\n",
      "pwn.college{Y7o9vEOKP3wb9p32wW14Ypr9XIn.dljM3MDL2QjNzYzW}\n"
     ]
    }
   ],
   "source": [
    "# Step 1 - Create a random forest model and find the specific n_estimators value that gives a loss value of `0.0252` on the test dataset after training\n",
    "# HINT: The correct number of `n_estimators` will be in the range from 10 to 200 and will be an increment of 10 (no need to try 54 or 123).\n",
    "n_estimators = 140\n",
    "\n",
    "model = RandomForestClassifier(n_estimators=n_estimators, random_state=42)\n",
    "model.fit(X_train, y_train)\n",
    "\n",
    "y_pred_proba = model.predict_proba(X_test)\n",
    "loss = log_loss(y_test, y_pred_proba)\n",
    "print('Target Loss: 0.0252')\n",
    "print(f' Model Loss: {loss:.4f}')\n",
    "\n",
    "step_1_check(n_estimators)"
   ]
  }
 ],
 "metadata": {
  "kernelspec": {
   "display_name": "venv",
   "language": "python",
   "name": "python3"
  },
  "language_info": {
   "codemirror_mode": {
    "name": "ipython",
    "version": 3
   },
   "file_extension": ".py",
   "mimetype": "text/x-python",
   "name": "python",
   "nbconvert_exporter": "python",
   "pygments_lexer": "ipython3",
   "version": "3.11.2"
  }
 },
 "nbformat": 4,
 "nbformat_minor": 2
}
